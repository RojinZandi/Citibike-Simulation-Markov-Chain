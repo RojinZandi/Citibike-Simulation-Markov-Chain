{
 "cells": [
  {
   "cell_type": "code",
   "execution_count": 1,
   "id": "88916c7a",
   "metadata": {},
   "outputs": [],
   "source": [
    "import numpy as np\n",
    "import pandas as pd\n",
    "import matplotlib.pyplot as plt\n",
    "import seaborn as sns\n",
    "from datetime import datetime\n",
    "import collections"
   ]
  },
  {
   "cell_type": "code",
   "execution_count": 2,
   "id": "9a58e5db",
   "metadata": {},
   "outputs": [
    {
     "name": "stderr",
     "output_type": "stream",
     "text": [
      "/opt/anaconda3/lib/python3.8/site-packages/IPython/core/interactiveshell.py:3165: DtypeWarning: Columns (7) have mixed types.Specify dtype option on import or set low_memory=False.\n",
      "  has_raised = await self.run_ast_nodes(code_ast.body, cell_name,\n"
     ]
    }
   ],
   "source": [
    "# Loading the dataset\n",
    "df = pd.read_csv('202107-citibike-tripdata.csv')"
   ]
  },
  {
   "cell_type": "code",
   "execution_count": 3,
   "id": "c27df6f2",
   "metadata": {},
   "outputs": [],
   "source": [
    "df.drop(columns=['ride_id', 'start_lat', 'start_lng', 'end_lat', 'end_lng'], inplace=True)"
   ]
  },
  {
   "cell_type": "code",
   "execution_count": 4,
   "id": "815f6d6a",
   "metadata": {},
   "outputs": [
    {
     "name": "stdout",
     "output_type": "stream",
     "text": [
      "member type: [1 0]\n"
     ]
    }
   ],
   "source": [
    "# mofify some categorical columns\n",
    "\n",
    "df['member_casual'] = df['member_casual'].astype('category')     \n",
    "df['member_casual'] = df['member_casual'].cat.codes             # 1 - member, 0 - casual\n",
    "\n",
    "print('member type:', pd.Series(df['member_casual']).unique())"
   ]
  },
  {
   "cell_type": "code",
   "execution_count": 5,
   "id": "8eda725c",
   "metadata": {},
   "outputs": [
    {
     "name": "stdout",
     "output_type": "stream",
     "text": [
      "<class 'pandas.core.frame.DataFrame'>\n",
      "RangeIndex: 3084537 entries, 0 to 3084536\n",
      "Data columns (total 8 columns):\n",
      " #   Column              Dtype  \n",
      "---  ------              -----  \n",
      " 0   rideable_type       object \n",
      " 1   started_at          object \n",
      " 2   ended_at            object \n",
      " 3   start_station_name  object \n",
      " 4   start_station_id    float64\n",
      " 5   end_station_name    object \n",
      " 6   end_station_id      object \n",
      " 7   member_casual       int8   \n",
      "dtypes: float64(1), int8(1), object(6)\n",
      "memory usage: 167.7+ MB\n"
     ]
    }
   ],
   "source": [
    "df.info()"
   ]
  },
  {
   "cell_type": "markdown",
   "id": "3bc96fde",
   "metadata": {},
   "source": [
    "### Warm Up Questions"
   ]
  },
  {
   "cell_type": "markdown",
   "id": "8b147475",
   "metadata": {},
   "source": [
    "#### 1. compute and plot the duration of each ride in minutes"
   ]
  },
  {
   "cell_type": "code",
   "execution_count": 6,
   "id": "d824b52c",
   "metadata": {},
   "outputs": [],
   "source": [
    "df['ended_at'] = pd.to_datetime(df['ended_at'])\n",
    "df['started_at'] = pd.to_datetime(df['started_at'])\n",
    "\n",
    "df['Ride_dur'] = df['ended_at'] - df['started_at']"
   ]
  },
  {
   "cell_type": "code",
   "execution_count": 7,
   "id": "ac541512",
   "metadata": {},
   "outputs": [
    {
     "data": {
      "text/plain": [
       "count    3084537.00\n",
       "mean          18.02\n",
       "std           83.16\n",
       "min          -10.17\n",
       "25%            6.25\n",
       "50%           11.20\n",
       "75%           20.00\n",
       "max        48872.78\n",
       "Name: Ride_dur_min, dtype: float64"
      ]
     },
     "execution_count": 7,
     "metadata": {},
     "output_type": "execute_result"
    }
   ],
   "source": [
    "df['Ride_dur_min'] = df['Ride_dur'] / np.timedelta64(1, 'm')\n",
    "df['Ride_dur_min'].describe().round(2)"
   ]
  },
  {
   "cell_type": "code",
   "execution_count": 8,
   "id": "d867e79f",
   "metadata": {},
   "outputs": [
    {
     "name": "stdout",
     "output_type": "stream",
     "text": [
      "Variance of the ride duration is: 6915.028501301067\n"
     ]
    }
   ],
   "source": [
    "print(\"Variance of the ride duration is:\", df['Ride_dur_min'].var())"
   ]
  },
  {
   "cell_type": "code",
   "execution_count": 9,
   "id": "39b5dda9",
   "metadata": {},
   "outputs": [],
   "source": [
    "#  # plotting histogram plot\n",
    "# %matplotlib inline            \n",
    "# import matplotlib.pyplot as plt\n",
    "# plt.figure(figsize=(31,10))\n",
    "\n",
    "# sns.countplot(data=df, x=\"Ride_dur_min\") "
   ]
  },
  {
   "cell_type": "markdown",
   "id": "cc70b394",
   "metadata": {},
   "source": [
    "#### 2. ride duration analysis"
   ]
  },
  {
   "cell_type": "code",
   "execution_count": 10,
   "id": "7f32411e",
   "metadata": {},
   "outputs": [
    {
     "name": "stdout",
     "output_type": "stream",
     "text": [
      "The probability of ride duration greater than 20 is: 0.24975125926516686\n"
     ]
    }
   ],
   "source": [
    "gr20 = df['Ride_dur_min'][df['Ride_dur_min'] > 20].count() \n",
    "prob20 = gr20 / len(df)\n",
    "print (\"The probability of ride duration greater than 20 is:\", prob20)"
   ]
  },
  {
   "cell_type": "markdown",
   "id": "0ad611b5",
   "metadata": {},
   "source": [
    "#### 3. P(greater than 20|member)"
   ]
  },
  {
   "cell_type": "code",
   "execution_count": 11,
   "id": "4b050e0b",
   "metadata": {},
   "outputs": [
    {
     "name": "stdout",
     "output_type": "stream",
     "text": [
      "The conditional probability of ride duration greater than 20 for members is: 0.3811424373084373\n"
     ]
    }
   ],
   "source": [
    "n_member = df['member_casual'][df['member_casual'] == 1].count()\n",
    "gr20_member = df['member_casual'][df['Ride_dur_min'] > 20].count()\n",
    "\n",
    "cond_prob20 =  gr20_member / n_member\n",
    "print (\"The conditional probability of ride duration greater than 20 for members is:\", cond_prob20)"
   ]
  },
  {
   "cell_type": "markdown",
   "id": "1fd0bdf7",
   "metadata": {},
   "source": [
    "#### 4. P(member|duration>25)"
   ]
  },
  {
   "cell_type": "code",
   "execution_count": 12,
   "id": "5f317268",
   "metadata": {},
   "outputs": [
    {
     "name": "stdout",
     "output_type": "stream",
     "text": [
      "The conditional probability of members given the ride duration greater than 25 is: 0.4828191891922421\n"
     ]
    }
   ],
   "source": [
    "gr25 = df['Ride_dur_min'][df['Ride_dur_min'] > 25].count()\n",
    "gr25_member = df['member_casual'][df['Ride_dur_min'] > 25][df['member_casual'] == 1].count()\n",
    "\n",
    "cond_prob25 =  gr25_member / gr25\n",
    "print (\"The conditional probability of members given the ride duration greater than 25 is:\", cond_prob25)"
   ]
  },
  {
   "cell_type": "markdown",
   "id": "04bf79c3",
   "metadata": {},
   "source": [
    "### Project"
   ]
  },
  {
   "cell_type": "markdown",
   "id": "bb1e49c7",
   "metadata": {},
   "source": [
    "#### manipulate time"
   ]
  },
  {
   "cell_type": "code",
   "execution_count": 13,
   "id": "839da812",
   "metadata": {},
   "outputs": [],
   "source": [
    "# identify the start hour and weekday\n",
    "\n",
    "df['start hour'] = df['started_at'].dt.hour.astype('int')\n",
    "df['start min'] = df['started_at'].dt.minute.astype('int')\n",
    "df['weekday'] = df['started_at'].dt.weekday.astype('category')"
   ]
  },
  {
   "cell_type": "code",
   "execution_count": 14,
   "id": "deba4854",
   "metadata": {},
   "outputs": [],
   "source": [
    "# delete weekends\n",
    "\n",
    "indexNames = df[df['weekday'].isin([5, 6])].index\n",
    "df.drop(indexNames, inplace=True)"
   ]
  },
  {
   "cell_type": "code",
   "execution_count": 15,
   "id": "e7b5bc99",
   "metadata": {},
   "outputs": [],
   "source": [
    "# use start hour to represent the block of the day\n",
    "# morning -> 1 and afternoon -> 0\n",
    "\n",
    "df['mor/aft'] = np.where(df['start hour'] < 12, 1, 0)"
   ]
  },
  {
   "cell_type": "code",
   "execution_count": 16,
   "id": "80e4fe87",
   "metadata": {},
   "outputs": [],
   "source": [
    "# split morning/afternoon into blocks based on 10 min\n",
    "\n",
    "df['period'] = df.apply(lambda row: row['start hour'] % 12 * 6 + row['start min']//10 + 1, axis=1)"
   ]
  },
  {
   "cell_type": "markdown",
   "id": "8b69beef",
   "metadata": {},
   "source": [
    "#### manipulate stations"
   ]
  },
  {
   "cell_type": "code",
   "execution_count": 18,
   "id": "a5460b31",
   "metadata": {},
   "outputs": [
    {
     "data": {
      "text/plain": [
       "(['W 21 St & 6 Ave', 'E 17 St & Broadway', 'West St & Chambers St'],\n",
       " [6140.05, 5980.07, 5329.03])"
      ]
     },
     "execution_count": 18,
     "metadata": {},
     "output_type": "execute_result"
    }
   ],
   "source": [
    "# select three most popular stations based on the frequency of bike going out\n",
    "\n",
    "counter = collections.Counter(df[\"start_station_name\"])\n",
    "most_common_stations = [each[0] for each in counter.most_common(3)]\n",
    "\n",
    "most_common_ids = [df.loc[df['start_station_name'] == each, 'start_station_id'].iloc[0] for each in most_common_stations]\n",
    "most_common_stations, most_common_ids"
   ]
  },
  {
   "cell_type": "code",
   "execution_count": 19,
   "id": "67a124ef",
   "metadata": {},
   "outputs": [],
   "source": [
    "for i, id in enumerate(most_common_ids):\n",
    "    df.loc[df['start_station_id'] == id, 'start_station_id'] = i\n",
    "    df.loc[df['end_station_id'] == id, 'end_station_id'] = i \n",
    "\n",
    "# 'W 21 St & 6 Ave' -> 0\n",
    "# 'E 17 St & Broadway' -> 1\n",
    "# '7 Ave & Central Park South' -> 2"
   ]
  },
  {
   "cell_type": "code",
   "execution_count": 20,
   "id": "3ac22a19",
   "metadata": {},
   "outputs": [],
   "source": [
    "# keep only the top 3 stations\n",
    "df = df[ ((df['start_station_id'] == 0) | (df['end_station_id'] == 0))\n",
    "                | ((df['start_station_id'] == 1) | (df['end_station_id'] == 1))\n",
    "                | ((df['start_station_id'] == 2) | (df['end_station_id'] == 2)) ]\n"
   ]
  },
  {
   "cell_type": "markdown",
   "id": "65114a9a",
   "metadata": {},
   "source": [
    "#### remove duration outliers"
   ]
  },
  {
   "cell_type": "code",
   "execution_count": 21,
   "id": "9448c2ff",
   "metadata": {},
   "outputs": [],
   "source": [
    "std, mean = df['Ride_dur_min'].describe()['std'], df['Ride_dur_min'].describe()['mean']"
   ]
  },
  {
   "cell_type": "code",
   "execution_count": 22,
   "id": "97323e3d",
   "metadata": {},
   "outputs": [],
   "source": [
    "df = df[df['Ride_dur_min'] <= mean + 2 * std]"
   ]
  },
  {
   "cell_type": "markdown",
   "id": "70fab6ed",
   "metadata": {},
   "source": [
    "#### calculate freq"
   ]
  },
  {
   "cell_type": "code",
   "execution_count": 23,
   "id": "34ac418f",
   "metadata": {},
   "outputs": [],
   "source": [
    "def LB(MA, id, numOfBikes, capacity):\n",
    "    # MA: morning (1) or afternoon (0)\n",
    "    # id: station id 0, 1, 2\n",
    "    freq_matrix = np.zeros([capacity+1, capacity+1])\n",
    "    \n",
    "    pre_bikes = numOfBikes\n",
    "    for i in range(72):\n",
    "        ave_leaving = df[ (df['period'] == i) & (df['start_station_id'] == id) & (df['mor/aft'] == MA) ].shape[0] // 22\n",
    "        ave_arriving = df[ (df['period' ] == i) & (df['end_station_id'] == id) & (df['mor/aft'] == MA) ].shape[0] // 22\n",
    "        cur_bikes = pre_bikes + ave_arriving - ave_leaving\n",
    "        \n",
    "        if cur_bikes < 0:\n",
    "            cur_bikes = 0\n",
    "        elif cur_bikes > capacity:\n",
    "            cur_bikes = capacity\n",
    "        \n",
    "        freq_matrix[pre_bikes][cur_bikes] += 1\n",
    "        pre_bikes = cur_bikes\n",
    "        # print(\"Period %d -> %d left, %d arrived, %d available at %d.\" % (i, ave_leaving, ave_arriving, cur_bikes, id))\n",
    "   \n",
    "    return freq_matrix\n"
   ]
  },
  {
   "cell_type": "code",
   "execution_count": 24,
   "id": "1ae7bb71",
   "metadata": {},
   "outputs": [],
   "source": [
    "def describe(m):\n",
    "    for i, row in enumerate(m):\n",
    "        for j, col in enumerate(row):\n",
    "            if col > 0:\n",
    "                print('The freq from %d to %d is %d' % (i, j, col))\n",
    "                "
   ]
  },
  {
   "cell_type": "code",
   "execution_count": 25,
   "id": "650f55c5",
   "metadata": {},
   "outputs": [],
   "source": [
    "cap = [50, 66, 39]"
   ]
  },
  {
   "cell_type": "code",
   "execution_count": 26,
   "id": "0688de75",
   "metadata": {},
   "outputs": [],
   "source": [
    "fm00 = LB(0, 0, cap[0], cap[0])"
   ]
  },
  {
   "cell_type": "code",
   "execution_count": 27,
   "id": "96193092",
   "metadata": {},
   "outputs": [],
   "source": [
    "fm10 = LB(1, 0, cap[0], cap[0])"
   ]
  },
  {
   "cell_type": "code",
   "execution_count": 28,
   "id": "7a7407b8",
   "metadata": {},
   "outputs": [],
   "source": [
    "fm01 = LB(0, 1, cap[1], cap[1])"
   ]
  },
  {
   "cell_type": "code",
   "execution_count": 29,
   "id": "5d1bac13",
   "metadata": {},
   "outputs": [],
   "source": [
    "fm11 = LB(1, 1, 0, cap[1])"
   ]
  },
  {
   "cell_type": "code",
   "execution_count": 30,
   "id": "86fc23f8",
   "metadata": {},
   "outputs": [],
   "source": [
    "fm02 = LB(0, 2, cap[2], cap[2])"
   ]
  },
  {
   "cell_type": "code",
   "execution_count": 31,
   "id": "d5335fbd",
   "metadata": {},
   "outputs": [],
   "source": [
    "fm12 = LB(1, 2, 0, cap[2])"
   ]
  },
  {
   "cell_type": "code",
   "execution_count": 32,
   "id": "8247757d",
   "metadata": {},
   "outputs": [],
   "source": [
    "fm = [fm00, fm10, fm01, fm11, fm02, fm12]"
   ]
  },
  {
   "cell_type": "markdown",
   "id": "12a01864",
   "metadata": {},
   "source": [
    "#### freq 2 prob"
   ]
  },
  {
   "cell_type": "code",
   "execution_count": 33,
   "id": "991f7482",
   "metadata": {},
   "outputs": [],
   "source": [
    "def freq2prob(freq_matrix):\n",
    "    # convert frequencies in each matrix to transition probabilities\n",
    "    re = np.zeros(freq_matrix.shape)\n",
    "    for i, row in enumerate(freq_matrix):\n",
    "        if sum(row) > 0:    \n",
    "            for j, col in enumerate(row):\n",
    "                re[i][j] = col / sum(row)\n",
    "\n",
    "    return re"
   ]
  },
  {
   "cell_type": "code",
   "execution_count": 34,
   "id": "78be5e37",
   "metadata": {},
   "outputs": [],
   "source": [
    "pm = []"
   ]
  },
  {
   "cell_type": "code",
   "execution_count": 35,
   "id": "8d777ccf",
   "metadata": {},
   "outputs": [],
   "source": [
    "for each in fm:\n",
    "    pm.append(freq2prob(each))"
   ]
  },
  {
   "cell_type": "markdown",
   "id": "712c4241",
   "metadata": {},
   "source": [
    " #### stationary probability"
   ]
  },
  {
   "cell_type": "code",
   "execution_count": 36,
   "id": "dfcbc4ad",
   "metadata": {},
   "outputs": [],
   "source": [
    "def staionary_prob(transition_prob, control):\n",
    "    # control 0 -> start with empty station\n",
    "    # control -1 -> start with full station\n",
    "    s = transition_prob.shape[0]   \n",
    "    initial_state = np.zeros([s,])\n",
    "    initial_state[control] = 1\n",
    "\n",
    "    pmn = np.linalg.matrix_power(transition_prob, 1000)\n",
    "    pi = np.matmul(initial_state, pmn)\n",
    "    \n",
    "    return pi\n"
   ]
  },
  {
   "cell_type": "code",
   "execution_count": 37,
   "id": "746dfb46",
   "metadata": {},
   "outputs": [],
   "source": [
    "sp = []\n",
    "sp.append(staionary_prob(pm[0], -1))\n",
    "sp.append(staionary_prob(pm[1], -1))\n",
    "sp.append(staionary_prob(pm[2], -1))\n",
    "sp.append(staionary_prob(pm[3], 0))\n",
    "sp.append(staionary_prob(pm[4], -1))\n",
    "sp.append(staionary_prob(pm[5], 0))"
   ]
  },
  {
   "cell_type": "code",
   "execution_count": 38,
   "id": "f9e855ad",
   "metadata": {},
   "outputs": [
    {
     "name": "stdout",
     "output_type": "stream",
     "text": [
      "The non-zero stationary probability for 0 is:\n",
      "\tstate 0 with prob 1.00000\n",
      "Sum of stationary prob: 1.00\n",
      "\n",
      "\n",
      "The non-zero stationary probability for 1 is:\n",
      "\tstate 0 with prob 1.00000\n",
      "Sum of stationary prob: 1.00\n",
      "\n",
      "\n",
      "The non-zero stationary probability for 2 is:\n",
      "\tstate 12 with prob 1.00000\n",
      "Sum of stationary prob: 1.00\n",
      "\n",
      "\n",
      "The non-zero stationary probability for 3 is:\n",
      "\tstate 42 with prob 0.57143\n",
      "\tstate 43 with prob 0.14286\n",
      "\tstate 44 with prob 0.28571\n",
      "Sum of stationary prob: 1.00\n",
      "\n",
      "\n",
      "The non-zero stationary probability for 4 is:\n",
      "\tstate 0 with prob 0.93750\n",
      "\tstate 1 with prob 0.06250\n",
      "Sum of stationary prob: 1.00\n",
      "\n",
      "\n",
      "The non-zero stationary probability for 5 is:\n",
      "\tstate 0 with prob 0.72222\n",
      "\tstate 1 with prob 0.04167\n",
      "\tstate 2 with prob 0.01389\n",
      "\tstate 3 with prob 0.04167\n",
      "\tstate 4 with prob 0.02778\n",
      "\tstate 5 with prob 0.08333\n",
      "\tstate 6 with prob 0.06944\n",
      "Sum of stationary prob: 1.00\n",
      "\n",
      "\n"
     ]
    }
   ],
   "source": [
    "for i, each in enumerate(sp):\n",
    "    # print(\"Stationary prob for %d is:\" %i, each)\n",
    "    print(\"The non-zero stationary probability for %d is:\" %i)\n",
    "    for j, p in enumerate(each):\n",
    "        if round(p, 4) > 0:\n",
    "            print(\"\\tstate %d with prob %.5f\" % (j, p))\n",
    "    print(\"Sum of stationary prob: %.2f\" % sum(each))\n",
    "    print('\\n')\n"
   ]
  },
  {
   "cell_type": "code",
   "execution_count": null,
   "id": "91f75069",
   "metadata": {},
   "outputs": [],
   "source": []
  }
 ],
 "metadata": {
  "kernelspec": {
   "display_name": "Python 3",
   "language": "python",
   "name": "python3"
  },
  "language_info": {
   "codemirror_mode": {
    "name": "ipython",
    "version": 3
   },
   "file_extension": ".py",
   "mimetype": "text/x-python",
   "name": "python",
   "nbconvert_exporter": "python",
   "pygments_lexer": "ipython3",
   "version": "3.8.8"
  }
 },
 "nbformat": 4,
 "nbformat_minor": 5
}
